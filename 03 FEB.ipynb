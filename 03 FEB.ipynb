{
 "cells": [
  {
   "cell_type": "markdown",
   "id": "0da8a494-4d20-44f0-8e1c-bd49076c4172",
   "metadata": {},
   "source": [
    "QUESTION 1"
   ]
  },
  {
   "cell_type": "code",
   "execution_count": null,
   "id": "2909e224-56e8-4162-b765-46cb48f5bd0b",
   "metadata": {},
   "outputs": [],
   "source": [
    "# \"def\" keyword is used to create a function\n",
    "def oddlist():\n",
    "    l = [i for i in range(1,26) if i%2 == 1]\n",
    "    return l"
   ]
  },
  {
   "cell_type": "markdown",
   "id": "573642e1-f709-4e61-83a6-a4979ab58b6e",
   "metadata": {},
   "source": [
    "QUESTION 2"
   ]
  },
  {
   "cell_type": "code",
   "execution_count": null,
   "id": "2eafcc42-84d8-4569-8039-cb707d5f3ad9",
   "metadata": {},
   "outputs": [],
   "source": [
    "# \"*args\" is used to take any number of argument from user\n",
    "# \"**kwargs\" is used to take any number of argumnet in key:value pair from user\n",
    "def func(*args):\n",
    "    # return the sum of all arguments\n",
    "    sum1 = 0\n",
    "    for i in args:\n",
    "        sum1 += i\n",
    "    return sum1\n",
    "def func1(**yash):\n",
    "    # return keys with even value in dictionary\n",
    "    d = dict((k,v) for k,v in yash.items() if v%2 == 0) \n",
    "    return d"
   ]
  },
  {
   "cell_type": "markdown",
   "id": "21c9f4aa-ed18-40bd-9409-0174eee5b60b",
   "metadata": {},
   "source": [
    "QUESTION 3"
   ]
  },
  {
   "cell_type": "code",
   "execution_count": null,
   "id": "43d3875a-e00c-428c-b830-51cfcc00aca1",
   "metadata": {},
   "outputs": [],
   "source": [
    "# iterator is an object which contain countable number of items\n",
    "# \"iter()\" to initialise the iterable object and \"next()\" is used for itearation\n",
    "l = [2, 4, 6, 8, 10, 12, 14, 16, 18, 20]\n",
    "myit = iter(l)\n",
    "print(next(myit))\n",
    "print(next(myit))\n",
    "print(next(myit))\n",
    "print(next(myit))\n",
    "print(next(myit))"
   ]
  },
  {
   "cell_type": "markdown",
   "id": "22eed00b-f899-4537-a91c-ad2c94772a3a",
   "metadata": {},
   "source": [
    "QUESTION 6"
   ]
  },
  {
   "cell_type": "code",
   "execution_count": null,
   "id": "d040d0c5-9c3e-4ff4-86c0-af1988a83432",
   "metadata": {},
   "outputs": [],
   "source": [
    "a,b = 0,1\n",
    "c = a+b\n",
    "i = 1\n",
    "while i <= 10:\n",
    "    if i == 1:\n",
    "        print(a)\n",
    "    if i == 2:\n",
    "        print(b)\n",
    "    if i > 2:\n",
    "        print(c)\n",
    "        a = b\n",
    "        b = c\n",
    "        c = a+b\n",
    "    i += 1"
   ]
  },
  {
   "cell_type": "markdown",
   "id": "1a978fb6-460d-4b38-9989-5ec3e80ed5e9",
   "metadata": {},
   "source": [
    "QUESTION 7"
   ]
  },
  {
   "cell_type": "code",
   "execution_count": null,
   "id": "ed12bdec-d9fa-41e2-8252-ed22acd8f3bf",
   "metadata": {},
   "outputs": [],
   "source": [
    "string = 'pwskills'\n",
    "l = list(i for i in string)\n",
    "print(l)"
   ]
  },
  {
   "cell_type": "markdown",
   "id": "c93fc15c-0f91-4e6c-a07c-fdd98a9584b4",
   "metadata": {},
   "source": [
    "QUESTION 8"
   ]
  },
  {
   "cell_type": "code",
   "execution_count": null,
   "id": "05a04aa1-3c58-4de8-a2a4-52725a9e2d52",
   "metadata": {},
   "outputs": [],
   "source": [
    "num = int(input(\"enter the number\"))\n",
    "string = str(num)\n",
    "end = len(string) - 1\n",
    "start = 0\n",
    "ans = True\n",
    "while start <= end:\n",
    "    if string[start] != string[end]:\n",
    "        ans = False\n",
    "    start += 1\n",
    "    end -= 1\n",
    "if ans :\n",
    "    print(f\"{num} is palindrome\")\n",
    "else :\n",
    "    print(f\"{num} is not palindrome\")\n",
    "    "
   ]
  },
  {
   "cell_type": "markdown",
   "id": "a2918a00-2b2e-441e-aaff-459b3628a7a5",
   "metadata": {},
   "source": [
    "QUESTION 9"
   ]
  },
  {
   "cell_type": "code",
   "execution_count": null,
   "id": "c0aece9b-1ec9-431f-be2b-2758c8cd8161",
   "metadata": {},
   "outputs": [],
   "source": [
    "l = list(i for i in range(1,101))\n",
    "l1 = list(i for i in l if i%2 == 1)\n",
    "for i in  l1:\n",
    "    print(i)"
   ]
  },
  {
   "cell_type": "markdown",
   "id": "4e6e1432-2af0-440c-b35b-606c7790cd28",
   "metadata": {},
   "source": [
    "QUESTION 4"
   ]
  },
  {
   "cell_type": "code",
   "execution_count": null,
   "id": "e1a51437-56cb-4ac8-bede-53cdfd603c14",
   "metadata": {},
   "outputs": [],
   "source": [
    "# Generator function is function that return iterator which upon iteration produces all the values.\n",
    "# \"yield\" keyword is used.\n",
    "\n",
    "def count(n):\n",
    "    i = 1\n",
    "    while i <= n:\n",
    "        yield i\n",
    "        i += 1\n",
    "c = count(10)\n",
    "for i in c:\n",
    "    print(i)"
   ]
  },
  {
   "cell_type": "markdown",
   "id": "531073c4-3c03-4875-836c-dda84a6e408d",
   "metadata": {},
   "source": [
    "QUESTION 5"
   ]
  },
  {
   "cell_type": "code",
   "execution_count": null,
   "id": "e6280aaf-e1ec-4a5d-8381-1485079bfccc",
   "metadata": {},
   "outputs": [],
   "source": [
    "def prime(n):\n",
    "    for i in range(2,n+1):\n",
    "        j = 2\n",
    "        ans = True\n",
    "        while j < i: \n",
    "            if i%j == 0:\n",
    "                ans = False\n",
    "                break\n",
    "            j += 1\n",
    "        if ans :\n",
    "            yield i\n",
    "\n",
    "prime_num = prime(1000)\n",
    "myit = iter(prime_num)\n",
    "for i in range(20):\n",
    "    print(next(myit))"
   ]
  },
  {
   "cell_type": "code",
   "execution_count": null,
   "id": "0f3c7c78-2a0e-4dc0-a645-826309b057e6",
   "metadata": {},
   "outputs": [],
   "source": []
  },
  {
   "cell_type": "code",
   "execution_count": null,
   "id": "8f81c6df-8da2-4eb8-be0b-6ef1c4517c66",
   "metadata": {},
   "outputs": [],
   "source": []
  },
  {
   "cell_type": "code",
   "execution_count": null,
   "id": "e55f8c84-af85-470e-a920-ecca13b45715",
   "metadata": {},
   "outputs": [],
   "source": []
  }
 ],
 "metadata": {
  "kernelspec": {
   "display_name": "Python 3 (ipykernel)",
   "language": "python",
   "name": "python3"
  },
  "language_info": {
   "codemirror_mode": {
    "name": "ipython",
    "version": 3
   },
   "file_extension": ".py",
   "mimetype": "text/x-python",
   "name": "python",
   "nbconvert_exporter": "python",
   "pygments_lexer": "ipython3",
   "version": "3.10.8"
  }
 },
 "nbformat": 4,
 "nbformat_minor": 5
}
