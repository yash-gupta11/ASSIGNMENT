{
 "cells": [
  {
   "cell_type": "markdown",
   "id": "b076be3e-3c53-4a69-a44a-f2b146d995e0",
   "metadata": {},
   "source": [
    "Question 1 :"
   ]
  },
  {
   "cell_type": "code",
   "execution_count": null,
   "id": "88071c33-06fd-443b-8c59-8589ae15004e",
   "metadata": {},
   "outputs": [],
   "source": [
    "# FOR LOOP\n",
    "# for loop is generally used to iterate an build-in data type of python such as tuple,list etc\n",
    "l = [1,2,3,4,5]\n",
    "for i in l :\n",
    "    print(i)\n",
    "\n",
    "# while loop\n",
    "# while loop used when we know how many times we need to iterate the loop\n",
    "# printing 10 natural number\n",
    "i = 1\n",
    "while i <= 10 :\n",
    "    print(i)\n",
    "    i += 1\n",
    "\n",
    "#both 'for' and 'while' loop can be used for any problem statement but we prefer the loop which make the code more readable"
   ]
  },
  {
   "cell_type": "markdown",
   "id": "27d2a8b4-93cd-463a-b266-a1455ea1d543",
   "metadata": {},
   "source": [
    "QUESTION 2:"
   ]
  },
  {
   "cell_type": "code",
   "execution_count": 1,
   "id": "619d1714-9679-48ee-978f-f6207b17281f",
   "metadata": {},
   "outputs": [
    {
     "name": "stdout",
     "output_type": "stream",
     "text": [
      "55 55 3628800 3628800\n"
     ]
    }
   ],
   "source": [
    "sum1,product1,sum2,product2 = 0,1,0,1\n",
    "for i in range(1,11):\n",
    "    sum1 += i\n",
    "    product1 *= i\n",
    "i = 1\n",
    "while i <= 10:\n",
    "    sum2 += i\n",
    "    product2 *= i\n",
    "    i += 1\n",
    "    \n",
    "print(sum1,sum2,product1,product2)"
   ]
  },
  {
   "cell_type": "markdown",
   "id": "dca556d2-4f61-442c-9d57-571943b5ace3",
   "metadata": {},
   "source": [
    "QUESTION 5 :"
   ]
  },
  {
   "cell_type": "code",
   "execution_count": 2,
   "id": "65700aad-26a1-47ba-ba1e-0222f0b92b2e",
   "metadata": {},
   "outputs": [
    {
     "name": "stdin",
     "output_type": "stream",
     "text": [
      "enter the string \"I want to become a data scientist\"\n"
     ]
    },
    {
     "name": "stdout",
     "output_type": "stream",
     "text": [
      "number of vowels in string is 12\n"
     ]
    }
   ],
   "source": [
    "string = input(\"enter the string\")\n",
    "count = 0\n",
    "vowels = ['a','e','i','o','u','A','E','I','O','U']\n",
    "for i in string:\n",
    "    if i in vowels:\n",
    "        count += 1\n",
    "    \n",
    "print(f\"number of vowels in string is {count}\")"
   ]
  },
  {
   "cell_type": "markdown",
   "id": "7044e57b-f0a6-4ad4-8815-b7b0593e1428",
   "metadata": {},
   "source": [
    "QUESTION 4"
   ]
  },
  {
   "cell_type": "code",
   "execution_count": 6,
   "id": "446eca7e-bd69-4d31-b88c-2d722a3fd372",
   "metadata": {},
   "outputs": [
    {
     "name": "stdout",
     "output_type": "stream",
     "text": [
      "[8000, 64000, 216000, 512000, 1000000]\n"
     ]
    }
   ],
   "source": [
    "l1 = [i for i in range(1,101)]\n",
    "ans = []\n",
    "for i in l1 :\n",
    "    if (i % 5 == 0) and (i % 4 == 0) :\n",
    "        ans.append(i ** 3)\n",
    "print(ans)"
   ]
  },
  {
   "cell_type": "markdown",
   "id": "2d677a46-baf7-44e3-bf64-be57026075cd",
   "metadata": {},
   "source": [
    "QUESTION 3"
   ]
  },
  {
   "cell_type": "code",
   "execution_count": 8,
   "id": "f3669b4b-e8cc-49f1-84f8-716d8e30ec9f",
   "metadata": {},
   "outputs": [
    {
     "name": "stdin",
     "output_type": "stream",
     "text": [
      "enter the number of units 310\n"
     ]
    },
    {
     "name": "stdout",
     "output_type": "stream",
     "text": [
      "2250.0\n"
     ]
    }
   ],
   "source": [
    "units = int(input(\"enter the number of units\"))\n",
    "ans = 0\n",
    "if units >= 300 :\n",
    "    ans = 100*4.5 + 100*6 + 100*10 + 20*(units-300)\n",
    "elif units >= 200:\n",
    "    ans = 100*4.5 + 100*6 + 10*(units-200)\n",
    "elif units >= 100:\n",
    "    ans = 100*4.5 + 6*(units-100)\n",
    "else :\n",
    "    ans = units*4.5\n",
    "\n",
    "print(ans)\n",
    "    "
   ]
  }
 ],
 "metadata": {
  "kernelspec": {
   "display_name": "Python 3 (ipykernel)",
   "language": "python",
   "name": "python3"
  },
  "language_info": {
   "codemirror_mode": {
    "name": "ipython",
    "version": 3
   },
   "file_extension": ".py",
   "mimetype": "text/x-python",
   "name": "python",
   "nbconvert_exporter": "python",
   "pygments_lexer": "ipython3",
   "version": "3.10.8"
  }
 },
 "nbformat": 4,
 "nbformat_minor": 5
}
