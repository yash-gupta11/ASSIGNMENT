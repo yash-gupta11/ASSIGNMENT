{
 "cells": [
  {
   "cell_type": "markdown",
   "id": "ff661f1b-833c-4016-bf88-b8e93917f403",
   "metadata": {},
   "source": [
    "QUESTION 1 :"
   ]
  },
  {
   "cell_type": "code",
   "execution_count": 1,
   "id": "9284bc37-e78f-46cb-9ac4-e177bf6ef700",
   "metadata": {},
   "outputs": [],
   "source": [
    "# The Probability Mass Function (PMF) is for discrete ramdom variable.for ex : pmf function for bernaulli distribution is pmf ; function for tossing a coin\n",
    "# The Probability Density Function (PDF) is for Continuous ramdom variable.for ex : pdf function for normal distribution is pdf : function for hieght,weight of student in class."
   ]
  },
  {
   "cell_type": "markdown",
   "id": "748a0745-7b29-4a55-90fc-81a315d69a4b",
   "metadata": {},
   "source": [
    "QUESTION 2 :"
   ]
  },
  {
   "cell_type": "code",
   "execution_count": 2,
   "id": "5ad72185-af93-4992-baca-265cd7b74096",
   "metadata": {},
   "outputs": [],
   "source": [
    "# Cumulative Density Function (CDF)'s \"curve gradient\" provide the probability density at a particular point.\n",
    "# CDF function is the sum of all probablity less and eqaul to a particular point.\n",
    "# Ex cdf of normal distribution.\n",
    "# it is used to find the \"probablity density\" at any point.\n",
    "# it is alse used to find the probablity via area of curve."
   ]
  },
  {
   "cell_type": "markdown",
   "id": "88c3df41-0c99-4033-a38d-f1ef91e7959f",
   "metadata": {},
   "source": [
    "QUESTION 3 :"
   ]
  },
  {
   "cell_type": "code",
   "execution_count": 3,
   "id": "c0770d7a-093b-4144-a2b4-4ee461708e68",
   "metadata": {},
   "outputs": [],
   "source": [
    "# 1. Hieght of the student in class.\n",
    "# 2. Wieght of the student in class.\n",
    "# 3. sepal width of iris dataset.\n",
    "# There are mainly two parameter of normal distribution \n",
    "    # a. mean\n",
    "    # b. standard deviation(std)\n",
    "# when 'mean' is large the the curve shifts to right side,when 'std 'is large the width of curve increases."
   ]
  },
  {
   "cell_type": "markdown",
   "id": "4ea661c6-2abd-431a-9f30-da33e8682391",
   "metadata": {},
   "source": [
    "QUESTION 4 :"
   ]
  },
  {
   "cell_type": "code",
   "execution_count": 4,
   "id": "566f2992-9bad-4101-a1f7-3433ec268de3",
   "metadata": {},
   "outputs": [],
   "source": [
    "# Real life example :\n",
    "    # 1. Hieght of the student in class.\n",
    "    # 2. Wieght of the student in class.\n",
    "    # 3. sepal width of iris dataset.\n",
    "\n",
    "# Importance :\n",
    "    # 1. It provide bell curve .\n",
    "    # 2. It provide symmetric data distribution due to which its easy to make insights from data."
   ]
  },
  {
   "cell_type": "markdown",
   "id": "5c42ae53-394e-4417-aa5b-5b61fd37d78c",
   "metadata": {},
   "source": [
    "QUESTION 5 :"
   ]
  },
  {
   "cell_type": "code",
   "execution_count": 5,
   "id": "401f0eea-14e0-494c-96c7-6017258a81e5",
   "metadata": {},
   "outputs": [],
   "source": [
    "# Bernaulli Distribution is design for discrete random variable and single trail which has binary output 0 or 1.\n",
    "# example : a. tossing a coin.\n",
    "        #   b. wheather a person pass or fail.\n",
    "# Binomial Distribution is design for n trial which has binary output 0 or 1 ; each trail is independent of eachother.\n",
    "# example : a. tossing a coin 100 times."
   ]
  },
  {
   "cell_type": "markdown",
   "id": "fe56ba8f-7e9f-4cdb-b06f-42fcbce8261e",
   "metadata": {},
   "source": [
    "QUESTION 6 :"
   ]
  },
  {
   "cell_type": "code",
   "execution_count": 6,
   "id": "8e9c9d6e-0246-4f40-803c-4eff2776662b",
   "metadata": {},
   "outputs": [],
   "source": [
    "# mean = 50\n",
    "# std = 10\n",
    "# xi = 60\n",
    "# z_score = (xi - mean)/std\n",
    "# z_score = (60 - 50)/10\n",
    "# z_score = +1\n",
    "# by z table we get\n",
    "# Pr(xi <= 60) =  0.84134\n",
    "# Pr(xi >= 60) = 1 - 0.84134\n",
    "# Pr(xi >= 60) = 0.15866\n",
    "# ans = 15.866 %"
   ]
  },
  {
   "cell_type": "markdown",
   "id": "f40b6f32-8e33-49c9-a6ae-4e6cd059d292",
   "metadata": {},
   "source": [
    "QUESTION 7 :"
   ]
  },
  {
   "cell_type": "code",
   "execution_count": 7,
   "id": "4dd399ea-d96b-41aa-a076-8fcaede73d04",
   "metadata": {},
   "outputs": [],
   "source": [
    "# Uniform Distribution\n",
    "#    a.Continuous Uniform Distribution\n",
    "#          it is design for continous random variable(pdf)\n",
    "        #  pdf = 1/(b-a) : a < b\n",
    "    # it is also know as rectangular distribution.\n",
    "    # mean = median = (a+b)/2\n",
    "    # variance = ((a+b)**2)/12\n",
    "    # example : distribution of 'number of candies sold every day with its maximum value(b) and minimum value(a).'\n",
    "\n",
    "#    b.Discrete Uniform Distribution\n",
    "        # it is design for discrete random variable(pmf)\n",
    "        # pmd = 1/n; n = (b - a + 1)\n",
    "        # mean = median = (a+b)/2\n",
    "        # example : distribution for rolling a dice."
   ]
  },
  {
   "cell_type": "markdown",
   "id": "5f3b1816-2718-492e-a8c5-c0fcf0924b7a",
   "metadata": {},
   "source": [
    "QUESTION 8 :"
   ]
  },
  {
   "cell_type": "code",
   "execution_count": 8,
   "id": "4f85bd8c-4753-4415-b9ce-1dc497556745",
   "metadata": {},
   "outputs": [],
   "source": [
    "# Z_SCORE \n",
    "    # it is the ratio of 'differnce of data point and mean' with standard deviation.\n",
    "    # z_score = (xi - mean)/std\n",
    "# Importance of the Z_SCORE\n",
    "    # it is used to convert the normal distribution into standard normal distribution\n",
    "    # it is used find the area under the curve through Z TABLE."
   ]
  },
  {
   "cell_type": "markdown",
   "id": "37ae1288-eab9-49ac-8411-6a4964b89ffb",
   "metadata": {},
   "source": [
    "QUESTION 9 :"
   ]
  },
  {
   "cell_type": "code",
   "execution_count": 9,
   "id": "cea48b71-126a-4ef3-8437-bc27064f0a6f",
   "metadata": {},
   "outputs": [],
   "source": [
    "# Central Limit Theorem :\n",
    "    # It says the the sampling distribution of mean is always normal distribution as long as sample size is large enough, for any population distribution \n",
    "    # i.e population can be normal,binomial,bernoulli,poisson or any other type of distribution.\n",
    "# Significance of the Central Limit Theorem :\n",
    "    # 1. Its mean of sampling distribution is equal to population mean.\n",
    "    # 2. Its std/(n ** 0.5) is equal to population std ; n = no of element in each sample.\n",
    "    # 3. It provide symmetric sampling mean distribution due to which its easy to make insights from data."
   ]
  },
  {
   "cell_type": "markdown",
   "id": "1c2c5ab0-689a-4689-bdba-f1a2c63fa1f5",
   "metadata": {},
   "source": [
    "QUESTION 10 :"
   ]
  },
  {
   "cell_type": "code",
   "execution_count": 10,
   "id": "e24e990f-9083-439e-8e3c-855617f99aa9",
   "metadata": {},
   "outputs": [],
   "source": [
    "# for normal distribution :\n",
    "    # n = any value\n",
    "# for other distirbution : \n",
    "    # n >= 30"
   ]
  }
 ],
 "metadata": {
  "kernelspec": {
   "display_name": "Python 3 (ipykernel)",
   "language": "python",
   "name": "python3"
  },
  "language_info": {
   "codemirror_mode": {
    "name": "ipython",
    "version": 3
   },
   "file_extension": ".py",
   "mimetype": "text/x-python",
   "name": "python",
   "nbconvert_exporter": "python",
   "pygments_lexer": "ipython3",
   "version": "3.10.8"
  }
 },
 "nbformat": 4,
 "nbformat_minor": 5
}
