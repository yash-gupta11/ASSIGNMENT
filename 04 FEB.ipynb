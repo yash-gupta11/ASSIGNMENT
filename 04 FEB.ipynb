{
 "cells": [
  {
   "cell_type": "markdown",
   "id": "7a43422e-72ab-4252-acb0-1d5cc1eca744",
   "metadata": {},
   "source": [
    "QUESTION 1"
   ]
  },
  {
   "cell_type": "code",
   "execution_count": 29,
   "id": "ffe8e796-b31a-41ed-ad97-ea72795b4abe",
   "metadata": {},
   "outputs": [
    {
     "data": {
      "text/plain": [
       "[('Virat Kohli', 24936),\n",
       " ('Jack Kallis', 25534),\n",
       " ('Ricky Ponting', 27483),\n",
       " ('Sachin Tendulkar', 34357)]"
      ]
     },
     "execution_count": 29,
     "metadata": {},
     "output_type": "execute_result"
    }
   ],
   "source": [
    "sort_list = lambda l : [i[::-1] for i in (sorted([i[::-1] for i in l]))]\n",
    "l = [('Sachin Tendulkar', 34357), ('Ricky Ponting', 27483), ('Jack Kallis', 25534), ('Virat Kohli', 24936)]\n",
    "sort_list(l)"
   ]
  },
  {
   "cell_type": "markdown",
   "id": "943c8faf-83c6-4f03-9b5f-a153a45f1d3b",
   "metadata": {},
   "source": [
    "QUESTION 2"
   ]
  },
  {
   "cell_type": "code",
   "execution_count": 3,
   "id": "53edcf7d-7602-4e99-8733-b53942f0aa44",
   "metadata": {},
   "outputs": [
    {
     "data": {
      "text/plain": [
       "[1, 4, 9, 16, 25, 36, 49, 64, 81, 100]"
      ]
     },
     "execution_count": 3,
     "metadata": {},
     "output_type": "execute_result"
    }
   ],
   "source": [
    "l1 = [1, 2, 3, 4, 5, 6, 7, 8, 9, 10]\n",
    "l = list(map((lambda x : x*x),l1))\n",
    "l"
   ]
  },
  {
   "cell_type": "markdown",
   "id": "654d79fe-0bb3-4d78-a0d6-90e85d001938",
   "metadata": {},
   "source": [
    "QUESTION 3"
   ]
  },
  {
   "cell_type": "code",
   "execution_count": 4,
   "id": "ab966eaa-57cb-45fd-8b93-d3b162a5d18c",
   "metadata": {},
   "outputs": [
    {
     "data": {
      "text/plain": [
       "('1', '2', '3', '4', '5', '6', '7', '8', '9', '10')"
      ]
     },
     "execution_count": 4,
     "metadata": {},
     "output_type": "execute_result"
    }
   ],
   "source": [
    "l = [1, 2, 3, 4, 5, 6, 7, 8, 9, 10]\n",
    "t = tuple(map((lambda x : str(x)),l))\n",
    "t"
   ]
  },
  {
   "cell_type": "markdown",
   "id": "9ae63a61-49c2-41b5-b8c0-d747d951efd6",
   "metadata": {},
   "source": [
    "QUESTION 4\n"
   ]
  },
  {
   "cell_type": "code",
   "execution_count": 10,
   "id": "2f8680d7-3729-4702-91b0-0c11d387188a",
   "metadata": {},
   "outputs": [
    {
     "data": {
      "text/plain": [
       "325"
      ]
     },
     "execution_count": 10,
     "metadata": {},
     "output_type": "execute_result"
    }
   ],
   "source": [
    "l = [i for i in range(1,26)]\n",
    "from functools import reduce\n",
    "ans = reduce((lambda a,b: a+b),l)\n",
    "ans"
   ]
  },
  {
   "cell_type": "markdown",
   "id": "da6dbcb5-0e6a-4690-8568-7dc0dfdc9305",
   "metadata": {},
   "source": [
    "QUESTION 5"
   ]
  },
  {
   "cell_type": "code",
   "execution_count": 13,
   "id": "c758b0d5-96c0-499b-82e0-f2b7149f3207",
   "metadata": {},
   "outputs": [
    {
     "data": {
      "text/plain": [
       "[6, 60, 90, 120]"
      ]
     },
     "execution_count": 13,
     "metadata": {},
     "output_type": "execute_result"
    }
   ],
   "source": [
    "l = [2, 3, 6, 9, 27, 60, 90, 120, 55, 46]\n",
    "ans = list(filter((lambda x :((x%2 == 0) and (x%3 == 0))),l))\n",
    "ans"
   ]
  },
  {
   "cell_type": "markdown",
   "id": "5f5aef72-6d4a-46fe-9337-25be7aabe377",
   "metadata": {},
   "source": [
    "QUESTION 6"
   ]
  },
  {
   "cell_type": "code",
   "execution_count": 17,
   "id": "ebcfdcf3-3438-43a3-a97e-66c9ed602ec9",
   "metadata": {},
   "outputs": [
    {
     "data": {
      "text/plain": [
       "['php', 'aba', 'radar', 'level']"
      ]
     },
     "execution_count": 17,
     "metadata": {},
     "output_type": "execute_result"
    }
   ],
   "source": [
    "l = ['python', 'php', 'aba', 'radar', 'level']\n",
    "ans = list(filter((lambda x : x == x[::-1]),l))\n",
    "ans"
   ]
  }
 ],
 "metadata": {
  "kernelspec": {
   "display_name": "Python 3 (ipykernel)",
   "language": "python",
   "name": "python3"
  },
  "language_info": {
   "codemirror_mode": {
    "name": "ipython",
    "version": 3
   },
   "file_extension": ".py",
   "mimetype": "text/x-python",
   "name": "python",
   "nbconvert_exporter": "python",
   "pygments_lexer": "ipython3",
   "version": "3.10.8"
  }
 },
 "nbformat": 4,
 "nbformat_minor": 5
}
