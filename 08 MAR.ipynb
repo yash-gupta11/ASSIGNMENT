{
 "cells": [
  {
   "cell_type": "code",
   "execution_count": null,
   "id": "54a5a461-f97d-4e71-884e-7c83847251c0",
   "metadata": {},
   "outputs": [],
   "source": [
    "QUESTION : 1"
   ]
  },
  {
   "cell_type": "code",
   "execution_count": 2,
   "id": "fc285d65-010c-460e-8308-d02503caecdb",
   "metadata": {},
   "outputs": [],
   "source": [
    "# Probablity density function is function which provide the 'probablity density' at any point in 'continuous random variable\"."
   ]
  },
  {
   "cell_type": "code",
   "execution_count": null,
   "id": "da31a4f3-7812-4619-81c2-1e3c1611c944",
   "metadata": {},
   "outputs": [],
   "source": [
    "QUESTION : 2"
   ]
  },
  {
   "cell_type": "code",
   "execution_count": 3,
   "id": "29f9c6db-a824-4e0e-a26d-d57e509af88f",
   "metadata": {},
   "outputs": [],
   "source": [
    "# 1 BINOMIAL DISTRIBUTION\n",
    "# 2 POISSON DISTRIBUTION\n",
    "# 3 BERNOULLI DISTRIBUTION\n",
    "# 4 NORMAL or GAUSSIAN DISTRIBUTION\n",
    "# 5 LOG - NORMAL DISTRIBUTION\n",
    "# 6 UNIFORM DISTIRBUTION"
   ]
  },
  {
   "cell_type": "code",
   "execution_count": null,
   "id": "146df883-6c41-468c-861c-c78d2712f7a6",
   "metadata": {},
   "outputs": [],
   "source": [
    "QUESTION : 3"
   ]
  },
  {
   "cell_type": "code",
   "execution_count": 43,
   "id": "f21d0dcb-ec4d-4899-90be-4b3848c0e4ce",
   "metadata": {},
   "outputs": [
    {
     "name": "stdin",
     "output_type": "stream",
     "text": [
      "enter the mean 3\n",
      "enter the std 3\n",
      "enter the data point 3\n"
     ]
    },
    {
     "name": "stdout",
     "output_type": "stream",
     "text": [
      "0.1329807601338109\n"
     ]
    }
   ],
   "source": [
    "import numpy as np\n",
    "import math\n",
    "from scipy.stats import norm\n",
    "\n",
    "mean = float(input('enter the mean'))\n",
    "std = float(input('enter the std'))\n",
    "x = float(input('enter the data point'))\n",
    "def normal_distribution(mean,std,x):\n",
    "    pdf = norm.pdf(x,mean,std)\n",
    "    return pdf\n",
    "print(normal_distribution(mean,std,x))"
   ]
  },
  {
   "cell_type": "code",
   "execution_count": null,
   "id": "fa44732f-279d-4be9-a87f-ed529618e46f",
   "metadata": {},
   "outputs": [],
   "source": [
    "QUESTION : 4"
   ]
  },
  {
   "cell_type": "code",
   "execution_count": null,
   "id": "11b2c0b7-1ebe-42ba-902f-2e8a2fbf07f2",
   "metadata": {},
   "outputs": [],
   "source": [
    "# it is for discrete random variable\n",
    "# it has pmf \n",
    "# it is drawn for n trials in experiment\n",
    "# each trail has binary output i.e [0,1]\n",
    "# pr(1) = p and pr(0) = 1-p = q \n",
    "# mean = np , var = npq,std = npq ** 0.5\n",
    "# example : 1. tossing a coin for 100 times\n",
    "#           2. rolling a dice for 1000 times"
   ]
  },
  {
   "cell_type": "code",
   "execution_count": null,
   "id": "36cb476e-c713-40c9-a885-2d820254c252",
   "metadata": {},
   "outputs": [],
   "source": [
    "QUESTION : 5"
   ]
  },
  {
   "cell_type": "code",
   "execution_count": 26,
   "id": "449acefa-8fe7-431e-892e-31e761082c94",
   "metadata": {},
   "outputs": [
    {
     "data": {
      "image/png": "[encoded data removed]",
      "text/plain": [
       "<Figure size 640x480 with 1 Axes>"
      ]
     },
     "metadata": {},
     "output_type": "display_data"
    }
   ],
   "source": [
    "n = 999\n",
    "p = 0.4\n",
    "sample = list(range(n+1))\n",
    "from scipy.stats import binom\n",
    "dist = binom.pmf(sample,n,p)\n",
    "# print(dist)\n",
    "import matplotlib.pyplot as plt\n",
    "plt.hist(dist)\n",
    "plt.show()\n",
    "# plt.bar(sample,dist)\n",
    "# plt.show()"
   ]
  },
  {
   "cell_type": "code",
   "execution_count": null,
   "id": "2506f43e-ad61-4217-8b74-b2fe28fdf7cc",
   "metadata": {},
   "outputs": [],
   "source": [
    "QUESTION : 6"
   ]
  },
  {
   "cell_type": "code",
   "execution_count": 31,
   "id": "e2ba1a46-b2d1-400a-acac-0c58eac3d144",
   "metadata": {},
   "outputs": [
    {
     "data": {
      "text/plain": [
       "0.17299160788207146"
      ]
     },
     "execution_count": 31,
     "metadata": {},
     "output_type": "execute_result"
    }
   ],
   "source": [
    "from scipy.stats import poisson\n",
    "def poisson_cdf(mean,x):\n",
    "    return poisson.cdf(k = mean,mu = x)\n",
    "poisson_cdf(4,7)"
   ]
  },
  {
   "cell_type": "code",
   "execution_count": null,
   "id": "c4680b09-46db-4eee-a5dc-eb72abb3772a",
   "metadata": {},
   "outputs": [],
   "source": [
    "QUESTION : 7"
   ]
  },
  {
   "cell_type": "code",
   "execution_count": null,
   "id": "1456f6ea-1de9-4f41-a5c6-a32e86675054",
   "metadata": {},
   "outputs": [],
   "source": [
    "# binomial distribution take place for n trials whereas poisson distribution take place in btw time interval.\n",
    "# BD's each trails has binary output whereas PD has not BInary output. \n",
    "# example of binomial distribution is tossing a coin 10 times\n",
    "#ceample of poisson distribution is no of people visiting bank every hour"
   ]
  },
  {
   "cell_type": "code",
   "execution_count": null,
   "id": "3a6d4178-1e50-4d58-b1d7-8b3b9eb495e1",
   "metadata": {},
   "outputs": [],
   "source": [
    "QUESTION : 8"
   ]
  },
  {
   "cell_type": "code",
   "execution_count": 37,
   "id": "a1d9b25e-8211-43bd-bd36-a566e2d8b68a",
   "metadata": {},
   "outputs": [
    {
     "name": "stdout",
     "output_type": "stream",
     "text": [
      "mean = 5.003 \n",
      "variance = 4.988991\n"
     ]
    }
   ],
   "source": [
    "from scipy.stats import poisson\n",
    "poisson_sample = poisson.rvs(mu = 5,size = 1000)\n",
    "m = np.mean(poisson_sample)\n",
    "v = np.var(poisson_sample)\n",
    "print(f'mean = {m} \\nvariance = {v}')"
   ]
  },
  {
   "cell_type": "code",
   "execution_count": null,
   "id": "aaeeeb33-f815-4fe8-8926-d4ff07ef2920",
   "metadata": {},
   "outputs": [],
   "source": [
    "QUESTION : 9"
   ]
  },
  {
   "cell_type": "code",
   "execution_count": 38,
   "id": "21f0b8f3-de9d-4e5e-a32b-e91c3deb9458",
   "metadata": {},
   "outputs": [],
   "source": [
    "# BINOMIAL DISTRIBUTION\n",
    "# MEAN = np      VARIANCE = npq  \n",
    "# therefor ,VARIANCE = q * MEAN\n",
    "\n",
    "#POISSON DISTRIBUTION\n",
    "# MEAN = lambda*time      VARIANCE = lambda*time \n",
    "# therefore , VARIANCE = MEAN"
   ]
  },
  {
   "cell_type": "code",
   "execution_count": null,
   "id": "1d59fbf6-7f4d-474e-bc2b-4cae055610a8",
   "metadata": {},
   "outputs": [],
   "source": [
    "QUESTION : 10"
   ]
  },
  {
   "cell_type": "code",
   "execution_count": null,
   "id": "259b42e0-a831-4f36-af15-306146dc7f83",
   "metadata": {},
   "outputs": [],
   "source": [
    "# least frequency data is present beyond the 'third standard deviation' i.e  {< mean - 3*std} and {mean + 3*std <}."
   ]
  }
 ],
 "metadata": {
  "kernelspec": {
   "display_name": "Python 3 (ipykernel)",
   "language": "python",
   "name": "python3"
  },
  "language_info": {
   "codemirror_mode": {
    "name": "ipython",
    "version": 3
   },
   "file_extension": ".py",
   "mimetype": "text/x-python",
   "name": "python",
   "nbconvert_exporter": "python",
   "pygments_lexer": "ipython3",
   "version": "3.10.8"
  }
 },
 "nbformat": 4,
 "nbformat_minor": 5
}
