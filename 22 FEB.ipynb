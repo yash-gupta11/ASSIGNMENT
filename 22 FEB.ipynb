{
 "cells": [
  {
   "cell_type": "code",
   "execution_count": 1,
   "id": "f99b97c8-ce03-42c7-9899-09c42ac1535d",
   "metadata": {},
   "outputs": [],
   "source": [
    "import pandas as pd"
   ]
  },
  {
   "cell_type": "code",
   "execution_count": 3,
   "id": "45f98f21-5f8a-4545-9f42-d589ed889685",
   "metadata": {},
   "outputs": [
    {
     "name": "stdout",
     "output_type": "stream",
     "text": [
      "Requirement already satisfied: pandas in /opt/conda/lib/python3.10/site-packages (1.5.2)\n",
      "Requirement already satisfied: python-dateutil>=2.8.1 in /opt/conda/lib/python3.10/site-packages (from pandas) (2.8.2)\n",
      "Requirement already satisfied: pytz>=2020.1 in /opt/conda/lib/python3.10/site-packages (from pandas) (2022.6)\n",
      "Requirement already satisfied: numpy>=1.21.0 in /opt/conda/lib/python3.10/site-packages (from pandas) (1.23.5)\n",
      "Requirement already satisfied: six>=1.5 in /opt/conda/lib/python3.10/site-packages (from python-dateutil>=2.8.1->pandas) (1.16.0)\n",
      "Note: you may need to restart the kernel to use updated packages.\n"
     ]
    }
   ],
   "source": [
    "pip install pandas"
   ]
  },
  {
   "cell_type": "markdown",
   "id": "65f73f93-5043-4474-a919-fc89a3ba8704",
   "metadata": {},
   "source": [
    "QUESTION 1"
   ]
  },
  {
   "cell_type": "code",
   "execution_count": 4,
   "id": "87c35536-37e0-4da7-8424-a50ef222d690",
   "metadata": {},
   "outputs": [
    {
     "data": {
      "text/plain": [
       "0     4\n",
       "1     8\n",
       "2    15\n",
       "3    16\n",
       "4    23\n",
       "5    42\n",
       "dtype: int64"
      ]
     },
     "execution_count": 4,
     "metadata": {},
     "output_type": "execute_result"
    }
   ],
   "source": [
    "series = pd.Series([4,8,15,16,23,42])\n",
    "series"
   ]
  },
  {
   "cell_type": "markdown",
   "id": "0b76cf04-132a-470b-90bd-99d02f376c01",
   "metadata": {},
   "source": [
    "QUESTION 2"
   ]
  },
  {
   "cell_type": "code",
   "execution_count": 6,
   "id": "9c003b00-c4ca-42e5-8313-f4b086dec6ee",
   "metadata": {},
   "outputs": [
    {
     "data": {
      "text/plain": [
       "0    0\n",
       "1    1\n",
       "2    2\n",
       "3    3\n",
       "4    4\n",
       "5    5\n",
       "6    6\n",
       "7    7\n",
       "8    8\n",
       "9    9\n",
       "dtype: int64"
      ]
     },
     "execution_count": 6,
     "metadata": {},
     "output_type": "execute_result"
    }
   ],
   "source": [
    "l = [i for i in range(10)]\n",
    "pd.Series(l)"
   ]
  },
  {
   "cell_type": "markdown",
   "id": "cba966ec-bf87-4d54-ae98-354d0ba09e78",
   "metadata": {},
   "source": [
    "QUESTION 3"
   ]
  },
  {
   "cell_type": "code",
   "execution_count": 9,
   "id": "a48adae5-7a0b-41a8-a57c-a5346bde5132",
   "metadata": {},
   "outputs": [
    {
     "data": {
      "text/html": [
       "<div>\n",
       "<style scoped>\n",
       "    .dataframe tbody tr th:only-of-type {\n",
       "        vertical-align: middle;\n",
       "    }\n",
       "\n",
       "    .dataframe tbody tr th {\n",
       "        vertical-align: top;\n",
       "    }\n",
       "\n",
       "    .dataframe thead th {\n",
       "        text-align: right;\n",
       "    }\n",
       "</style>\n",
       "<table border=\"1\" class=\"dataframe\">\n",
       "  <thead>\n",
       "    <tr style=\"text-align: right;\">\n",
       "      <th></th>\n",
       "      <th>name</th>\n",
       "      <th>age</th>\n",
       "      <th>Gender</th>\n",
       "    </tr>\n",
       "  </thead>\n",
       "  <tbody>\n",
       "    <tr>\n",
       "      <th>0</th>\n",
       "      <td>Alice</td>\n",
       "      <td>25</td>\n",
       "      <td>female</td>\n",
       "    </tr>\n",
       "    <tr>\n",
       "      <th>1</th>\n",
       "      <td>Bob</td>\n",
       "      <td>30</td>\n",
       "      <td>male</td>\n",
       "    </tr>\n",
       "    <tr>\n",
       "      <th>2</th>\n",
       "      <td>claire</td>\n",
       "      <td>27</td>\n",
       "      <td>female</td>\n",
       "    </tr>\n",
       "  </tbody>\n",
       "</table>\n",
       "</div>"
      ],
      "text/plain": [
       "     name  age  Gender\n",
       "0   Alice   25  female\n",
       "1     Bob   30    male\n",
       "2  claire   27  female"
      ]
     },
     "execution_count": 9,
     "metadata": {},
     "output_type": "execute_result"
    }
   ],
   "source": [
    "dic = {\n",
    "    \"name\" : [\"Alice\",\"Bob\",\"claire\"],\n",
    "    \"age\" : [25,30,27],\n",
    "    'Gender' : [\"female\",\"male\",\"female\"]\n",
    "}\n",
    "\n",
    "df = pd.DataFrame(dic)\n",
    "df"
   ]
  },
  {
   "cell_type": "markdown",
   "id": "d3f78d78-0229-4392-8d73-44c4521396b1",
   "metadata": {},
   "source": [
    "QUESTION 4"
   ]
  },
  {
   "cell_type": "code",
   "execution_count": 14,
   "id": "b228e0a6-6984-46f4-87fa-2c0bdad9fb92",
   "metadata": {},
   "outputs": [
    {
     "name": "stdout",
     "output_type": "stream",
     "text": [
      "     name  age  Gender\n",
      "0   Alice   25  female\n",
      "1     Bob   30    male\n",
      "2  claire   27  female\n",
      "series\n",
      "0     4\n",
      "1     8\n",
      "2    15\n",
      "3    16\n",
      "4    23\n",
      "5    42\n",
      "dtype: int64\n"
     ]
    }
   ],
   "source": [
    "# Data frame is 2-D data structue that store data in tabular fashion where as Series is 1-d data structure that store labelled data\n",
    "# Dataframe is mutable whereas data series is immutabe \n",
    "# data frame example\n",
    "print(df)\n",
    "# data series example\n",
    "print(\"series\")\n",
    "print(series)"
   ]
  },
  {
   "cell_type": "markdown",
   "id": "81b8b262-3109-42ac-8a06-53d180de61fc",
   "metadata": {},
   "source": [
    "QUESTION 5"
   ]
  },
  {
   "cell_type": "code",
   "execution_count": 11,
   "id": "eb796bf6-bd9b-4c6e-8948-2efa185d5314",
   "metadata": {},
   "outputs": [
    {
     "name": "stdout",
     "output_type": "stream",
     "text": [
      "a     1\n",
      "b     2\n",
      "c    34\n",
      "d     4\n",
      "e     5\n",
      "dtype: int64\n",
      "   key1  key2  key3\n",
      "0     1     6     1\n",
      "1     2     7     1\n",
      "2     2     8     0\n",
      "3     4     9     0\n",
      "4     4     0     1\n",
      "           key1      key2      key3\n",
      "count  5.000000  5.000000  5.000000\n",
      "mean   2.600000  6.000000  0.600000\n",
      "std    1.341641  3.535534  0.547723\n",
      "min    1.000000  0.000000  0.000000\n",
      "25%    2.000000  6.000000  0.000000\n",
      "50%    2.000000  7.000000  1.000000\n",
      "75%    4.000000  8.000000  1.000000\n",
      "max    4.000000  9.000000  1.000000\n"
     ]
    }
   ],
   "source": [
    "import pandas as pd\n",
    "\n",
    "# used to create series \n",
    "s = pd.Series([1,2,34,4,5],index=['a','b','c','d','e'])\n",
    "print(s)\n",
    "\n",
    "#used to create Dataframe\n",
    "df = pd.DataFrame({\n",
    "    'key1' : [1,2,2,4,4],\n",
    "    'key2' : [6,7,8,9,0],\n",
    "    'key3' : [1,1,0,0,1]\n",
    "\n",
    "})\n",
    "print(df)\n",
    "\n",
    "#used to categoried the data\n",
    "category = pd.Categorical(df['key3'])\n",
    "\n",
    "#used to get the array of unique data\n",
    "unique = df['key1'].unique()\n",
    "\n",
    "#used to provide some useful insights of the data in data frame\n",
    "print(df.describe())\n",
    "\n",
    "#used to delete the rows/columns which contain NaN\n",
    "#for columns axis = 1\n",
    "df.dropna(inplace=True)\n",
    "\n",
    "#used the to delete the row /columns  \n",
    "df.drop(4,inplace=True)\n",
    "\n",
    "#used to fill the NaN place with sum data\n",
    "df.fillna(\"yash\",inplace=True)\n",
    "\n",
    "#used to concatinate two or more dataframe \n",
    "#pd.concat([dataframe1,dataframe2],axis = 1)\n",
    "\n",
    "\n"
   ]
  },
  {
   "cell_type": "markdown",
   "id": "48fc0017-519e-4b79-bab1-e8e581613ff6",
   "metadata": {},
   "source": [
    "QUESTION 6"
   ]
  },
  {
   "cell_type": "code",
   "execution_count": null,
   "id": "1765f037-db50-46cc-bd40-0dd87612ecdd",
   "metadata": {},
   "outputs": [],
   "source": [
    "# DATAFRAME"
   ]
  },
  {
   "cell_type": "markdown",
   "id": "a2abee14-5975-4f64-8198-2a4ba665a5b6",
   "metadata": {},
   "source": [
    "QUESTION 7"
   ]
  },
  {
   "cell_type": "code",
   "execution_count": 21,
   "id": "0152ec65-a000-40e4-86be-0ba3f234b844",
   "metadata": {},
   "outputs": [
    {
     "data": {
      "text/html": [
       "<div>\n",
       "<style scoped>\n",
       "    .dataframe tbody tr th:only-of-type {\n",
       "        vertical-align: middle;\n",
       "    }\n",
       "\n",
       "    .dataframe tbody tr th {\n",
       "        vertical-align: top;\n",
       "    }\n",
       "\n",
       "    .dataframe thead th {\n",
       "        text-align: right;\n",
       "    }\n",
       "</style>\n",
       "<table border=\"1\" class=\"dataframe\">\n",
       "  <thead>\n",
       "    <tr style=\"text-align: right;\">\n",
       "      <th></th>\n",
       "      <th>name</th>\n",
       "      <th>age</th>\n",
       "      <th>Gender</th>\n",
       "    </tr>\n",
       "  </thead>\n",
       "  <tbody>\n",
       "    <tr>\n",
       "      <th>0</th>\n",
       "      <td>yash</td>\n",
       "      <td>20</td>\n",
       "      <td>male</td>\n",
       "    </tr>\n",
       "    <tr>\n",
       "      <th>1</th>\n",
       "      <td>harsh</td>\n",
       "      <td>23</td>\n",
       "      <td>male</td>\n",
       "    </tr>\n",
       "    <tr>\n",
       "      <th>2</th>\n",
       "      <td>aniket</td>\n",
       "      <td>24</td>\n",
       "      <td>male</td>\n",
       "    </tr>\n",
       "  </tbody>\n",
       "</table>\n",
       "</div>"
      ],
      "text/plain": [
       "     name  age Gender\n",
       "0    yash   20   male\n",
       "1   harsh   23   male\n",
       "2  aniket   24   male"
      ]
     },
     "execution_count": 21,
     "metadata": {},
     "output_type": "execute_result"
    }
   ],
   "source": [
    "ser1 = pd.Series([\"yash\",\"harsh\",\"aniket\"])\n",
    "ser2 = pd.Series([20,23,24])\n",
    "ser3 = pd.Series([\"male\",\"male\",'male'])\n",
    "frame = {\n",
    "    'name' : ser1,\n",
    "    'age' : ser2,\n",
    "    \"Gender\" : ser3\n",
    "\n",
    "}\n",
    "df6 = pd.DataFrame(frame)\n",
    "df6"
   ]
  },
  {
   "cell_type": "code",
   "execution_count": null,
   "id": "a63847a2-6097-4790-9e35-d2a9b782da46",
   "metadata": {},
   "outputs": [],
   "source": []
  }
 ],
 "metadata": {
  "kernelspec": {
   "display_name": "Python 3 (ipykernel)",
   "language": "python",
   "name": "python3"
  },
  "language_info": {
   "codemirror_mode": {
    "name": "ipython",
    "version": 3
   },
   "file_extension": ".py",
   "mimetype": "text/x-python",
   "name": "python",
   "nbconvert_exporter": "python",
   "pygments_lexer": "ipython3",
   "version": "3.10.8"
  }
 },
 "nbformat": 4,
 "nbformat_minor": 5
}
