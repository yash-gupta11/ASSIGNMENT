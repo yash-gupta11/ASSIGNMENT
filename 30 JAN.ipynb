{
 "cells": [
  {
   "cell_type": "markdown",
   "id": "f7bb127d-ca53-4788-815f-ff098b50aa88",
   "metadata": {},
   "source": [
    "QUESTION 1"
   ]
  },
  {
   "cell_type": "code",
   "execution_count": null,
   "id": "7d83e133-c46b-4d7f-9370-4578beae739e",
   "metadata": {},
   "outputs": [],
   "source": [
    "marks = int(input(\"enter the marks\"))\n",
    "if marks > 90:\n",
    "    print(\"A\")\n",
    "elif marks > 80 and marks <= 90:\n",
    "    print(\"B\")\n",
    "elif marks >= 60 and marks <= 80:\n",
    "    print(\"C\")\n",
    "elif marks < 60:\n",
    "    print(\"D\")"
   ]
  },
  {
   "cell_type": "markdown",
   "id": "1d4be51e-4fd1-42b8-bf52-ce89ca4b0e40",
   "metadata": {},
   "source": [
    "QUESTION 2"
   ]
  },
  {
   "cell_type": "code",
   "execution_count": null,
   "id": "029007da-7a70-4699-a2b5-bea560033b44",
   "metadata": {},
   "outputs": [],
   "source": [
    "cost = int(input(\"enter the cost of bike\"))\n",
    "if cost > 100000:\n",
    "    print(\"tax = \",.15*cost)\n",
    "elif cost <= 100000 and cost > 50000:\n",
    "    print(\"tax = \",.10*cost)\n",
    "elif cost <= 50000:\n",
    "    print(\"tax = \",.05*cost)"
   ]
  },
  {
   "cell_type": "markdown",
   "id": "db188e3e-2993-4a54-8aa8-12fd1ea0ca8d",
   "metadata": {},
   "source": [
    "QUESTION 3"
   ]
  },
  {
   "cell_type": "code",
   "execution_count": null,
   "id": "626dfeb1-80c2-4084-bbed-fda1bbbafb2d",
   "metadata": {},
   "outputs": [],
   "source": [
    "city = input(\"enter the city\")\n",
    "city = city.upper()\n",
    "if city == \"DEHLI\":\n",
    "    print(\"Red Fort\")\n",
    "elif city == \"AGRA\":\n",
    "    print(\"Taj Mahal\")\n",
    "elif city == \"JAIPUR\":\n",
    "    print(\"Jal mahal\")"
   ]
  },
  {
   "cell_type": "markdown",
   "id": "832d62a3-036d-4c7c-86fb-919f08db92cb",
   "metadata": {},
   "source": [
    "QUESTION 4"
   ]
  },
  {
   "cell_type": "code",
   "execution_count": null,
   "id": "76a4bcac-eb1b-48b2-a498-04b4eff947d6",
   "metadata": {},
   "outputs": [],
   "source": [
    "num = float(input(\"enter the number\"))\n",
    "count = 0\n",
    "while num >= 10:\n",
    "    num = num/3\n",
    "    count += 1\n",
    "print(count)\n",
    "    "
   ]
  },
  {
   "cell_type": "markdown",
   "id": "de36b5b2-8800-4cad-b2da-c6be2ca15330",
   "metadata": {},
   "source": [
    "QUESTION 5"
   ]
  },
  {
   "cell_type": "code",
   "execution_count": null,
   "id": "31455133-176a-434e-ab2b-48051dc42158",
   "metadata": {},
   "outputs": [],
   "source": [
    "# A while loop is used if we want an action to repeat itself until a certain condition is met\n",
    "# it will print number from 0 to 10\n",
    "i = 0\n",
    "while i <= 10:\n",
    "    print(i)\n",
    "    i = i+1\n",
    "# It is generally used when there is no iterator to iterate\n",
    "i = 0\n",
    "while i <= 10:\n",
    "    print(i**2)\n",
    "    i += 1"
   ]
  },
  {
   "cell_type": "markdown",
   "id": "cfcaa244-599c-4e2a-b85f-ee252032e322",
   "metadata": {},
   "source": [
    "QUESTION 6"
   ]
  },
  {
   "cell_type": "code",
   "execution_count": null,
   "id": "e8d72f31-1f79-407f-a4ec-2f103ba51a29",
   "metadata": {},
   "outputs": [],
   "source": [
    "row = int(input(\"enter the rows\"))\n",
    "col = int(input(\"enter the columns\"))\n",
    "\n",
    "\n",
    "\n",
    "#first patterm\n",
    "print(\"first pattern\")\n",
    "i,j = 0,0\n",
    "while i < row:\n",
    "    j = 0\n",
    "    while j < col:\n",
    "        print(\"*\",end = \"\")\n",
    "        j += 1\n",
    "    print(\"\\n\")\n",
    "    i += 1\n",
    "\n",
    "    \n",
    "    \n",
    "print(\"second pattern\")\n",
    "i,j = 0,0\n",
    "while i < row:\n",
    "    j = 0\n",
    "    while j <= i:\n",
    "        print(\"*\",end = \"\")\n",
    "        j += 1\n",
    "    print(\"\\n\")\n",
    "    i += 1\n",
    "    \n",
    "\n",
    "    \n",
    "print(\"third pattern\")\n",
    "i,j = 0,0\n",
    "\n",
    "while i < row:\n",
    "    j = 0\n",
    "    while j < row-i:\n",
    "        print(\" \",end = \"\")\n",
    "        j += 1\n",
    "    j = 0\n",
    "    while j <= i:\n",
    "        print(\"*\",end = \"\")\n",
    "        j += 1\n",
    "    print(\"\\n\")\n",
    "    i += 1"
   ]
  },
  {
   "cell_type": "markdown",
   "id": "77db0992-995c-4d66-a635-0511dbae353b",
   "metadata": {},
   "source": [
    "QUESTION 7"
   ]
  },
  {
   "cell_type": "code",
   "execution_count": null,
   "id": "33778071-d0c4-48fa-974a-a8ee79b419c0",
   "metadata": {},
   "outputs": [],
   "source": [
    "count = 10\n",
    "while count >= 1:\n",
    "    print(count)\n",
    "    count -= 1 "
   ]
  },
  {
   "cell_type": "markdown",
   "id": "41e0e64f-5193-455c-aaa4-58efa32a4157",
   "metadata": {},
   "source": [
    "QUESTION 8"
   ]
  },
  {
   "cell_type": "code",
   "execution_count": null,
   "id": "eb7c33a6-9a12-41a4-9cf8-ff9d25e73603",
   "metadata": {},
   "outputs": [],
   "source": [
    "count = 10\n",
    "while count >= 1:\n",
    "    print(count)\n",
    "    count -= 1 "
   ]
  }
 ],
 "metadata": {
  "kernelspec": {
   "display_name": "Python 3 (ipykernel)",
   "language": "python",
   "name": "python3"
  },
  "language_info": {
   "codemirror_mode": {
    "name": "ipython",
    "version": 3
   },
   "file_extension": ".py",
   "mimetype": "text/x-python",
   "name": "python",
   "nbconvert_exporter": "python",
   "pygments_lexer": "ipython3",
   "version": "3.10.8"
  }
 },
 "nbformat": 4,
 "nbformat_minor": 5
}
