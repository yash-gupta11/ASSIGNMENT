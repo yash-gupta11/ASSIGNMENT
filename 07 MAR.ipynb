{
 "cells": [
  {
   "cell_type": "markdown",
   "id": "91c27ce3-eb9e-4ce2-ad83-8b6db8b4e385",
   "metadata": {},
   "source": [
    "QUESTION 1"
   ]
  },
  {
   "cell_type": "markdown",
   "id": "65ae808a-2fbf-4d2a-ba8d-c7207d8d4d84",
   "metadata": {},
   "source": [
    "# 1 : mean\n",
    "# 2 : mode\n",
    "# 3 : median"
   ]
  },
  {
   "cell_type": "markdown",
   "id": "e76ebf72-8dd2-4412-af68-0d82f7e58cf4",
   "metadata": {},
   "source": [
    "QUESTION 2"
   ]
  },
  {
   "cell_type": "code",
   "execution_count": 54,
   "id": "09d2356b-5207-410c-b9aa-c8ea2198d663",
   "metadata": {},
   "outputs": [],
   "source": [
    "# mean is average of data\n",
    "# mode is data which has highest frequency\n",
    "# median is central data when data is in sorted order\n",
    "#mean,mode,median all are used to fill blank data block.\n"
   ]
  },
  {
   "cell_type": "markdown",
   "id": "f4f3aa40-5456-4c89-9226-3ac8aabe7040",
   "metadata": {},
   "source": [
    "QUESTION 3"
   ]
  },
  {
   "cell_type": "code",
   "execution_count": 55,
   "id": "8351d7d3-2a12-456a-b4f9-2e0f42fcefe9",
   "metadata": {},
   "outputs": [
    {
     "name": "stdout",
     "output_type": "stream",
     "text": [
      "mean = 177.01875 \n",
      " mode = ModeResult(mode=array([177.]), count=array([3])) \n",
      " median = 177.0 \n"
     ]
    },
    {
     "name": "stderr",
     "output_type": "stream",
     "text": [
      "/tmp/ipykernel_77/2087595709.py:7: FutureWarning: Unlike other reduction functions (e.g. `skew`, `kurtosis`), the default behavior of `mode` typically preserves the axis it acts along. In SciPy 1.11.0, this behavior will change: the default value of `keepdims` will become False, the `axis` over which the statistic is taken will be eliminated, and the value None will no longer be accepted. Set `keepdims` to True or False to avoid this warning.\n",
      "  mode = stats.mode(height)\n"
     ]
    }
   ],
   "source": [
    "import numpy as np\n",
    "height = np.array([178,177,176,177,178.2,178,175,179,180,175,178.9,176.2,177,172.5,178,176.5])\n",
    "mean = np.mean(height)\n",
    "median = np.median(height)\n",
    "\n",
    "from scipy import stats\n",
    "mode = stats.mode(height)\n",
    "print(f'mean = {mean} \\n mode = {mode} \\n median = {median} ')"
   ]
  },
  {
   "cell_type": "markdown",
   "id": "fa1eaee6-2416-4940-bdd9-a171bb092068",
   "metadata": {},
   "source": [
    "QUESTION 4"
   ]
  },
  {
   "cell_type": "code",
   "execution_count": 56,
   "id": "666e90f4-89ca-49c6-93cd-634ecdd63826",
   "metadata": {},
   "outputs": [
    {
     "data": {
      "text/plain": [
       "1.7885814036548633"
      ]
     },
     "execution_count": 56,
     "metadata": {},
     "output_type": "execute_result"
    }
   ],
   "source": [
    "np.std(height)"
   ]
  },
  {
   "cell_type": "markdown",
   "id": "2b32c1b3-9738-4bdc-bd36-3777be7ef008",
   "metadata": {},
   "source": [
    "QUESTION 5"
   ]
  },
  {
   "cell_type": "code",
   "execution_count": 57,
   "id": "ed4fcbaf-6f61-40d8-b0b1-ffc4d671de31",
   "metadata": {},
   "outputs": [
    {
     "name": "stdout",
     "output_type": "stream",
     "text": [
      "3.199023437500001\n",
      "1.7885814036548633\n"
     ]
    },
    {
     "data": {
      "image/png": "[encoded data removed]",
      "text/plain": [
       "<Figure size 640x480 with 1 Axes>"
      ]
     },
     "metadata": {},
     "output_type": "display_data"
    }
   ],
   "source": [
    "import seaborn as sns\n",
    "sns.histplot(height,kde = True)\n",
    "# in below histogram variance and standard deviatio is\n",
    "print(np.var(height))\n",
    "print(np.std(height))"
   ]
  },
  {
   "cell_type": "markdown",
   "id": "9236937d-9555-4b5b-b496-b00b34514a4c",
   "metadata": {},
   "source": [
    "QUESTION 6"
   ]
  },
  {
   "cell_type": "code",
   "execution_count": 58,
   "id": "b872d315-b31a-40ba-9c14-34a0ebdcdea1",
   "metadata": {},
   "outputs": [],
   "source": [
    "#ven diagram is diagram that shows the relation between two or more set.\n",
    "#it is used to show the union ,intersection,subtraction and many more operation on set"
   ]
  },
  {
   "cell_type": "markdown",
   "id": "08f36d15-96e5-4e8e-b096-15a746ca3256",
   "metadata": {},
   "source": [
    "QUESTION 7"
   ]
  },
  {
   "cell_type": "code",
   "execution_count": 59,
   "id": "5511f71e-d57b-4d2f-aa8c-e49b423ebfe2",
   "metadata": {},
   "outputs": [
    {
     "name": "stdout",
     "output_type": "stream",
     "text": [
      "union = {0, 2, 3, 4, 5, 6, 7, 8, 10} \n",
      "intersction = {2, 6}\n"
     ]
    }
   ],
   "source": [
    "A = {2,3,4,5,6,7} \n",
    "B = {0,2,6,8,10}\n",
    "union = A | B\n",
    "intersection  = A & B\n",
    "print(f'union = {union} \\nintersction = {intersection}')"
   ]
  },
  {
   "cell_type": "markdown",
   "id": "36408499-c5b7-49d1-bcb4-8b22d903ddba",
   "metadata": {},
   "source": [
    "QUESTION 8"
   ]
  },
  {
   "cell_type": "code",
   "execution_count": 60,
   "id": "533813ec-96d0-4728-96f2-aa0286c4db74",
   "metadata": {},
   "outputs": [],
   "source": [
    "#when we smoothen the histogram plot then there may be some leaning.\n",
    "#this leaning is know as skewness."
   ]
  },
  {
   "cell_type": "markdown",
   "id": "ea5f1f28-e3bf-4237-8772-ea815ff0cc5e",
   "metadata": {},
   "source": [
    "QUESTION 9"
   ]
  },
  {
   "cell_type": "code",
   "execution_count": 61,
   "id": "ef056941-2e42-40e0-9061-e65e27b6010b",
   "metadata": {},
   "outputs": [],
   "source": [
    "#mean < median < mode"
   ]
  },
  {
   "cell_type": "markdown",
   "id": "1da6f2ff-0e5e-41f5-8042-f2bdbce101f2",
   "metadata": {},
   "source": [
    "QUESTION 10"
   ]
  },
  {
   "cell_type": "code",
   "execution_count": 62,
   "id": "7457f7f5-a2d3-4917-8c21-e181a4b94d21",
   "metadata": {},
   "outputs": [],
   "source": [
    "#Covariance shows us how the two variables vary.\n",
    "#Correlation shows us the relationship and how they are related.\n",
    "#covariance may have big value due to which its difficult to find the extent of variasion.\n",
    "#correlation is from -1 - +1\n",
    "#both are used to find the relation btw two dataset and in selection of feature for machine learning. "
   ]
  },
  {
   "cell_type": "markdown",
   "id": "1d04695f-0a00-4c8f-86fd-3046922807f1",
   "metadata": {},
   "source": [
    "QUESTION 11"
   ]
  },
  {
   "cell_type": "code",
   "execution_count": 63,
   "id": "11ef84b8-d2ac-483b-b14f-7ea38222a0e2",
   "metadata": {},
   "outputs": [
    {
     "data": {
      "text/plain": [
       "177.01875"
      ]
     },
     "execution_count": 63,
     "metadata": {},
     "output_type": "execute_result"
    }
   ],
   "source": [
    "#mean = (x1 + x2 + x3 + x4 ..... + xn)/n\n",
    "sum(height)/ (len(height))\n",
    "    "
   ]
  },
  {
   "cell_type": "markdown",
   "id": "bd1518c0-48e1-4e50-be95-5066d9228c57",
   "metadata": {},
   "source": [
    "QUESTION 12"
   ]
  },
  {
   "cell_type": "code",
   "execution_count": 64,
   "id": "0c2c80b7-938f-4574-b975-1736ea610122",
   "metadata": {},
   "outputs": [],
   "source": [
    "#mean = median = mode"
   ]
  },
  {
   "cell_type": "markdown",
   "id": "70565ac5-34b4-462b-82bb-a4bf5f534e97",
   "metadata": {},
   "source": [
    "QUESTION 13"
   ]
  },
  {
   "cell_type": "code",
   "execution_count": 65,
   "id": "bfcabda1-081f-4c78-b135-60f4f7696516",
   "metadata": {},
   "outputs": [],
   "source": [
    "#covariance may have big value due to which its difficult to find the extent of variasion.\n",
    "#correlation is from -1 - +1"
   ]
  },
  {
   "cell_type": "markdown",
   "id": "3c749c46-d9f7-44b5-93ed-f1810f9d5431",
   "metadata": {},
   "source": [
    "QUESTION 14"
   ]
  },
  {
   "cell_type": "code",
   "execution_count": null,
   "id": "54df2bc1-5483-4a89-afc2-a3461b952bb9",
   "metadata": {},
   "outputs": [],
   "source": [
    "# basic concept to show the change is that first we take the data without outlier and then append the outlier in data. \n",
    "h1 = [178,177,176,177,178.2,178,175,179,180,175,178.9,176.2,177,172.5,178,176.5]\n",
    "sns.histplot(h1,kde = True)"
   ]
  },
  {
   "cell_type": "code",
   "execution_count": 50,
   "id": "30332d5a-32ad-4b33-bfaa-511bb81132bb",
   "metadata": {},
   "outputs": [],
   "source": [
    "h1.append(1000)"
   ]
  },
  {
   "cell_type": "code",
   "execution_count": 37,
   "id": "2714b682-588f-4108-b5ed-8b91548f2bf0",
   "metadata": {},
   "outputs": [
    {
     "data": {
      "text/plain": [
       "<AxesSubplot: ylabel='Count'>"
      ]
     },
     "execution_count": 37,
     "metadata": {},
     "output_type": "execute_result"
    },
    {
     "data": {
      "image/png": "[encoded data removed]",
      "text/plain": [
       "<Figure size 640x480 with 1 Axes>"
      ]
     },
     "metadata": {},
     "output_type": "display_data"
    }
   ],
   "source": [
    "sns.histplot(h1,kde = True)"
   ]
  },
  {
   "cell_type": "code",
   "execution_count": 39,
   "id": "b53fa234-c6f8-448e-b464-e920dcd1f057",
   "metadata": {},
   "outputs": [
    {
     "data": {
      "text/plain": [
       "177.01875"
      ]
     },
     "execution_count": 39,
     "metadata": {},
     "output_type": "execute_result"
    }
   ],
   "source": [
    "np.mean(h1) #before mean"
   ]
  },
  {
   "cell_type": "code",
   "execution_count": 45,
   "id": "6408ead9-d484-45ba-b0c3-c443b6aae9f9",
   "metadata": {},
   "outputs": [
    {
     "data": {
      "text/plain": [
       "177.0"
      ]
     },
     "execution_count": 45,
     "metadata": {},
     "output_type": "execute_result"
    }
   ],
   "source": [
    "np.median(h1) #before median"
   ]
  },
  {
   "cell_type": "markdown",
   "id": "27c0cea5-b8c8-4e66-8e57-3607ae0a4b19",
   "metadata": {},
   "source": [
    "np.mean(h1) #after mean"
   ]
  },
  {
   "cell_type": "markdown",
   "id": "d3aacf07-aa31-4e7e-9d62-5842ac75e831",
   "metadata": {},
   "source": [
    "np.median(h1) # after median"
   ]
  },
  {
   "cell_type": "code",
   "execution_count": 46,
   "id": "13be7577-9716-4fed-88bd-62d27556a505",
   "metadata": {},
   "outputs": [],
   "source": [
    "# we can see that the change in dispersion form above two graph\n",
    "# whereas we can see the change in mean and median from four code line"
   ]
  },
  {
   "cell_type": "code",
   "execution_count": 49,
   "id": "71d0eaee-e0cb-4fd5-ade6-eada82d25a32",
   "metadata": {},
   "outputs": [
    {
     "data": {
      "text/plain": [
       "3.199023437500001"
      ]
     },
     "execution_count": 49,
     "metadata": {},
     "output_type": "execute_result"
    }
   ],
   "source": [
    "np.var(h1) # before variance"
   ]
  },
  {
   "cell_type": "code",
   "execution_count": 51,
   "id": "d367032b-33e6-48c5-a353-8eaed03d85e7",
   "metadata": {},
   "outputs": [
    {
     "data": {
      "text/plain": [
       "37500.48560553633"
      ]
     },
     "execution_count": 51,
     "metadata": {},
     "output_type": "execute_result"
    }
   ],
   "source": [
    "np.var(h1) # after variance"
   ]
  },
  {
   "cell_type": "code",
   "execution_count": 48,
   "id": "19a7f4eb-1c07-4018-834b-771493d71016",
   "metadata": {},
   "outputs": [
    {
     "data": {
      "text/plain": [
       "1.7885814036548633"
      ]
     },
     "execution_count": 48,
     "metadata": {},
     "output_type": "execute_result"
    }
   ],
   "source": [
    "np.std(h1) # before std"
   ]
  },
  {
   "cell_type": "code",
   "execution_count": 52,
   "id": "39078d05-de14-4c59-838f-1dc6d1d30241",
   "metadata": {},
   "outputs": [
    {
     "data": {
      "text/plain": [
       "193.65042113441513"
      ]
     },
     "execution_count": 52,
     "metadata": {},
     "output_type": "execute_result"
    }
   ],
   "source": [
    "np.std(h1) # after std"
   ]
  },
  {
   "cell_type": "code",
   "execution_count": null,
   "id": "2aee46f5-dbf0-4149-8a72-b6a6f996bf91",
   "metadata": {},
   "outputs": [],
   "source": []
  }
 ],
 "metadata": {
  "kernelspec": {
   "display_name": "Python 3 (ipykernel)",
   "language": "python",
   "name": "python3"
  },
  "language_info": {
   "codemirror_mode": {
    "name": "ipython",
    "version": 3
   },
   "file_extension": ".py",
   "mimetype": "text/x-python",
   "name": "python",
   "nbconvert_exporter": "python",
   "pygments_lexer": "ipython3",
   "version": "3.10.8"
  }
 },
 "nbformat": 4,
 "nbformat_minor": 5
}
