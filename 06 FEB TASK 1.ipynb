{
 "cells": [
  {
   "cell_type": "markdown",
   "id": "2a8aba49-665f-458c-a930-0a636ec6bec9",
   "metadata": {},
   "source": [
    "QUESTION 1"
   ]
  },
  {
   "cell_type": "code",
   "execution_count": 7,
   "id": "9eb56c48-a16c-423f-a9f5-290d1abda160",
   "metadata": {},
   "outputs": [
    {
     "name": "stdout",
     "output_type": "stream",
     "text": [
      "[1, 2, 3, 4, 44, 55, 66, 34, 56, 78, 89, 34, 1, 2, 3, 1, 34, 55, 67, 78, 89, 4, 45, 22, 61, 34, 56]\n"
     ]
    },
    {
     "data": {
      "text/plain": [
       "4134711838987085478833841242112000"
      ]
     },
     "execution_count": 7,
     "metadata": {},
     "output_type": "execute_result"
    }
   ],
   "source": [
    "list1 = [1,2,3,4, [44,55,66, True], False, (34,56,78,89,34), {1,2,3,3,2,1}, {1:34, \"key2\": [55, 67, 78, 89], 4: (45,\n",
    "22, 61, 34)}, [56, 'data science'], 'Machine Learning']\n",
    "\n",
    "def num_list(l):\n",
    "    l1 = []\n",
    "    for i in l:\n",
    "        if type(i) == int:\n",
    "            l1.append(i)\n",
    "        elif type(i) == list:\n",
    "            for j in i:\n",
    "                if type(j) == int:\n",
    "                    l1.append(j)\n",
    "        elif type(i) == tuple:\n",
    "            for j in i:\n",
    "                if type(j) == int:\n",
    "                    l1.append(j)\n",
    "        elif type(i) == set:\n",
    "            for j in i:\n",
    "                if type(j) == int:\n",
    "                    l1.append(j)\n",
    "        elif type(i) == dict:\n",
    "            for x,y in i.items():\n",
    "                if type(x) == int:\n",
    "                    l1.append(x)\n",
    "                if type(y) == int:\n",
    "                    l1.append(y)\n",
    "                if type(y) == list:\n",
    "                    for j in y:\n",
    "                        if type(j) == int:\n",
    "                            l1.append(j)\n",
    "                elif type(y) == tuple:\n",
    "                    for j in y:\n",
    "                        if type(j) == int:\n",
    "                            l1.append(j)      \n",
    "    ans = 1\n",
    "    \n",
    "    for i in l1:\n",
    "        ans *= i\n",
    "    print(l1)\n",
    "    return ans\n",
    "num_list(list1)\n",
    "        "
   ]
  },
  {
   "cell_type": "markdown",
   "id": "8b613a92-7500-4409-96ca-65cfddc26a75",
   "metadata": {},
   "source": [
    "QUESTION 2"
   ]
  },
  {
   "cell_type": "code",
   "execution_count": 12,
   "id": "6e4bf0ab-9db8-42c2-a925-9b9e805b8016",
   "metadata": {},
   "outputs": [
    {
     "name": "stdin",
     "output_type": "stream",
     "text": [
      "enter the string I want to become a Data Scientist.\n"
     ]
    },
    {
     "name": "stdout",
     "output_type": "stream",
     "text": [
      "i$wznt$to$yexome$z$dztz$sxientist.\n"
     ]
    }
   ],
   "source": [
    "string = input(\"enter the string\")\n",
    "st = string.lower()\n",
    "ans = ''\n",
    "for i in st:\n",
    "    if i == \"a\":\n",
    "        ans += 'z'\n",
    "    elif i == 'b':\n",
    "        ans += 'y'\n",
    "    elif i == 'c':\n",
    "        ans += 'x'\n",
    "    elif i == \" \":\n",
    "        ans += '$'\n",
    "    else:\n",
    "        ans += i\n",
    "print(ans)\n",
    "    \n"
   ]
  },
  {
   "cell_type": "code",
   "execution_count": null,
   "id": "23ba6c13-e00d-4d52-b768-4a132741ad33",
   "metadata": {},
   "outputs": [],
   "source": []
  }
 ],
 "metadata": {
  "kernelspec": {
   "display_name": "Python 3 (ipykernel)",
   "language": "python",
   "name": "python3"
  },
  "language_info": {
   "codemirror_mode": {
    "name": "ipython",
    "version": 3
   },
   "file_extension": ".py",
   "mimetype": "text/x-python",
   "name": "python",
   "nbconvert_exporter": "python",
   "pygments_lexer": "ipython3",
   "version": "3.10.8"
  }
 },
 "nbformat": 4,
 "nbformat_minor": 5
}
