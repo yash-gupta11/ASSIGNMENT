{
 "cells": [
  {
   "cell_type": "markdown",
   "id": "9aa44437-402b-4acd-9107-232b2f163839",
   "metadata": {},
   "source": [
    "QUESTION 1"
   ]
  },
  {
   "cell_type": "code",
   "execution_count": 3,
   "id": "aec19fc9-d6c9-4997-8e61-1b8839fb2a9e",
   "metadata": {},
   "outputs": [],
   "source": [
    "#CLASS : A class is blueprint or prototype for object.Class is collection of object.\n",
    "#object : An entity which have same properties which are defined in class\n",
    "#Example : suppose the class is class of animal and then dogs,cows,snake,cat etc are the object of class\n",
    "#Example : suppose the class is class of flowers then Lotus\t, Jasmine, Jasminum ,Sunflower, Helianthus, Daisy etc are the obejct of class\n"
   ]
  },
  {
   "cell_type": "markdown",
   "id": "0311153d-bbe2-48ec-bfec-5caa886b6e5f",
   "metadata": {},
   "source": [
    "QUESTION 2"
   ]
  },
  {
   "cell_type": "code",
   "execution_count": null,
   "id": "d70183ff-e306-4a2b-9afc-6fba7a921934",
   "metadata": {},
   "outputs": [],
   "source": [
    "#1 : Polymorphism\n",
    "#2 : Encapsulation\n",
    "#3 : Inheritance\n",
    "#4 : Abstraction"
   ]
  },
  {
   "cell_type": "markdown",
   "id": "c87df296-4976-4707-95b5-4fee8daddd89",
   "metadata": {},
   "source": [
    "QUESTION 3"
   ]
  },
  {
   "cell_type": "code",
   "execution_count": 7,
   "id": "a04c80a2-1bdc-496a-9ce5-11aae6572170",
   "metadata": {},
   "outputs": [
    {
     "name": "stdout",
     "output_type": "stream",
     "text": [
      "Name is yash\n",
      "roll number  is 11\n",
      "age is 20\n",
      "course is data science master\n"
     ]
    }
   ],
   "source": [
    "#__init__() is used to take input from user during defining the object to class\n",
    "class student:\n",
    "    def __init__(self,name,roll_num,age,course):\n",
    "        self.name = name\n",
    "        self.roll_num = roll_num\n",
    "        self.age = age\n",
    "        self.course = course\n",
    "    def obtain_details(self):\n",
    "        print(f\"Name is {self.name}\")\n",
    "        print(f\"roll number  is {self.roll_num}\")\n",
    "        print(f\"age is {self.age}\")\n",
    "        print(f\"course is {self.course}\")\n",
    "        \n",
    "    \n",
    "a = student(\"yash\",11,20,\"data science master\")\n",
    "a.obtain_details()"
   ]
  },
  {
   "cell_type": "markdown",
   "id": "402f8684-0ef0-4ae9-8247-cfa935729f52",
   "metadata": {},
   "source": [
    "QUESTION 4"
   ]
  },
  {
   "cell_type": "code",
   "execution_count": null,
   "id": "f3da88fb-bb4c-40d0-ac22-36913dfa8a6c",
   "metadata": {},
   "outputs": [],
   "source": [
    "#\"self\" is used as connector between the various functions and attributes.\n",
    "#self allows us to access variables, attributes, and methods of a defined class."
   ]
  },
  {
   "cell_type": "markdown",
   "id": "2fd44cea-f85d-4c91-aff7-e654fc53907e",
   "metadata": {},
   "source": [
    "QUESTION 5"
   ]
  },
  {
   "cell_type": "code",
   "execution_count": 6,
   "id": "56aaa697-b5a0-4d0d-9365-13212046bc27",
   "metadata": {},
   "outputs": [
    {
     "name": "stdout",
     "output_type": "stream",
     "text": [
      "20,male,yash\n",
      "26,female,isha,apple,4 years\n"
     ]
    }
   ],
   "source": [
    "#Inheritance is procedure by which we can inherite the properties of one to another class\n",
    "# there are two type of \n",
    "# Single inheritance\n",
    "class parent_employee:\n",
    "    def __init__(self,name,age):\n",
    "        self.name = name\n",
    "        self.age = age\n",
    "        \n",
    "    def get_name(self):\n",
    "        return self.name\n",
    "    \n",
    "    def get_age(self):\n",
    "        return self.age\n",
    "\n",
    "class child_employee(parent_employee):\n",
    "    def __init__(self,name,age,gender):\n",
    "        parent_employee.__init__(self,name,age)\n",
    "        self.gender = gender\n",
    "    \n",
    "    def get_gender(self):\n",
    "        return self.gender\n",
    "    \n",
    "\n",
    "employee1 = child_employee(\"yash\",20,\"male\")\n",
    "print(f\"{employee1.get_age()},{employee1.get_gender()},{employee1.get_name()}\")\n",
    "\n",
    "# multiple inheritance\n",
    "\n",
    "class grand_child_employee(child_employee):\n",
    "    def __init__(self,name,age,gender,company,exp):\n",
    "        child_employee.__init__(self,name,age,gender)\n",
    "        self.company = company\n",
    "        self.exp = exp\n",
    "    \n",
    "    def get_company(self):\n",
    "        return self.company\n",
    "    \n",
    "    def get_exp(self):\n",
    "        return self.exp\n",
    "\n",
    "employee2 = grand_child_employee(\"isha\",26,\"female\",\"apple\",\"4 years\")\n",
    "print(f\"{employee2.get_age()},{employee2.get_gender()},{employee2.get_name()},{employee2.get_company()},{employee2.get_exp()}\")\n",
    "        "
   ]
  },
  {
   "cell_type": "code",
   "execution_count": null,
   "id": "4d71affd-c4fc-4130-9bbc-4d4e43512921",
   "metadata": {},
   "outputs": [],
   "source": []
  }
 ],
 "metadata": {
  "kernelspec": {
   "display_name": "Python 3 (ipykernel)",
   "language": "python",
   "name": "python3"
  },
  "language_info": {
   "codemirror_mode": {
    "name": "ipython",
    "version": 3
   },
   "file_extension": ".py",
   "mimetype": "text/x-python",
   "name": "python",
   "nbconvert_exporter": "python",
   "pygments_lexer": "ipython3",
   "version": "3.10.8"
  }
 },
 "nbformat": 4,
 "nbformat_minor": 5
}
