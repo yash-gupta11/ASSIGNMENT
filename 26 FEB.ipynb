{
 "cells": [
  {
   "cell_type": "code",
   "execution_count": 3,
   "id": "332fe836-96f1-4837-95e0-c0e1dcef9e0d",
   "metadata": {},
   "outputs": [],
   "source": [
    "import numpy as np\n",
    "list_ = [ '1' , '2' , '3' , '4' , '5' ]\n",
    "array_list = np.array(object = list_)"
   ]
  },
  {
   "cell_type": "markdown",
   "id": "9f4db234-b96d-4c4e-be8f-ae009ff1b30b",
   "metadata": {},
   "source": [
    "QUESTION 1"
   ]
  },
  {
   "cell_type": "code",
   "execution_count": 4,
   "id": "365372f2-d04b-4d50-909c-fc983d66e379",
   "metadata": {},
   "outputs": [
    {
     "name": "stdout",
     "output_type": "stream",
     "text": [
      "<class 'list'>\n",
      "<class 'numpy.ndarray'>\n"
     ]
    }
   ],
   "source": [
    "# yes,there is diferrence btw the datatype these two variable \n",
    "print(type(list_))\n",
    "print(type(array_list))"
   ]
  },
  {
   "cell_type": "markdown",
   "id": "e53a0746-bdf3-4e26-9061-2a79d345215f",
   "metadata": {},
   "source": [
    "QUESTION 2"
   ]
  },
  {
   "cell_type": "code",
   "execution_count": 10,
   "id": "aec754f6-411d-4d74-8f96-0405e49f4c42",
   "metadata": {},
   "outputs": [
    {
     "name": "stdout",
     "output_type": "stream",
     "text": [
      "[<class 'str'>, <class 'str'>, <class 'str'>, <class 'str'>, <class 'str'>]\n",
      "<U1\n"
     ]
    }
   ],
   "source": [
    "l = []\n",
    "for i in list_:\n",
    "    l.append(type(i))\n",
    "\n",
    "print(l)\n",
    "print(array_list.dtype)"
   ]
  },
  {
   "cell_type": "markdown",
   "id": "c95f01db-b9ce-4806-81fa-52ffdd711ec5",
   "metadata": {},
   "source": [
    "QUESTION 3"
   ]
  },
  {
   "cell_type": "code",
   "execution_count": 12,
   "id": "20bcbdfa-c1ab-454e-8ce7-8467804992bb",
   "metadata": {},
   "outputs": [
    {
     "name": "stdout",
     "output_type": "stream",
     "text": [
      "[<class 'str'>, <class 'str'>, <class 'str'>, <class 'str'>, <class 'str'>]\n",
      "int64\n"
     ]
    }
   ],
   "source": [
    "array_list = np.array(object = list_, dtype = int)\n",
    "\n",
    "#yes, there is a difference in the data type of the elements present in both the variables.\n",
    "l = []\n",
    "for i in list_:\n",
    "    l.append(type(i))\n",
    "\n",
    "print(l)\n",
    "print(array_list.dtype)"
   ]
  },
  {
   "cell_type": "markdown",
   "id": "9a79185f-ea74-45a3-b37e-720f9f54cf47",
   "metadata": {},
   "source": [
    "QUESTION 4"
   ]
  },
  {
   "cell_type": "code",
   "execution_count": 15,
   "id": "bf242c40-bdfa-4848-9444-6c10174acfe9",
   "metadata": {},
   "outputs": [
    {
     "name": "stdout",
     "output_type": "stream",
     "text": [
      "(2, 3)\n",
      "6\n"
     ]
    }
   ],
   "source": [
    "import numpy as np\n",
    "num_list = [ [ 1 , 2 , 3 ] , [ 4 , 5 , 6 ] ]\n",
    "num_array = np.array(object = num_list)\n",
    "\n",
    "print(num_array.shape)\n",
    "print(num_array.size)"
   ]
  },
  {
   "cell_type": "markdown",
   "id": "6601e557-eed5-45a5-bfcb-3bbb079df347",
   "metadata": {},
   "source": [
    "QUESTION 5"
   ]
  },
  {
   "cell_type": "code",
   "execution_count": 18,
   "id": "45cc0814-6af0-49ed-8994-a1c722839f7d",
   "metadata": {},
   "outputs": [
    {
     "data": {
      "text/plain": [
       "array([[0., 0., 0.],\n",
       "       [0., 0., 0.],\n",
       "       [0., 0., 0.]])"
      ]
     },
     "execution_count": 18,
     "metadata": {},
     "output_type": "execute_result"
    }
   ],
   "source": [
    "array_zero = np.zeros((3,3))\n",
    "array_zero"
   ]
  },
  {
   "cell_type": "markdown",
   "id": "91775a41-bcd9-4947-935f-dcac0a51c4a5",
   "metadata": {},
   "source": [
    "QUESTION 6"
   ]
  },
  {
   "cell_type": "code",
   "execution_count": 20,
   "id": "a72c3eac-d547-4929-8bc9-b5daedc72845",
   "metadata": {},
   "outputs": [
    {
     "data": {
      "text/plain": [
       "array([[1., 0., 0., 0., 0.],\n",
       "       [0., 1., 0., 0., 0.],\n",
       "       [0., 0., 1., 0., 0.],\n",
       "       [0., 0., 0., 1., 0.],\n",
       "       [0., 0., 0., 0., 1.]])"
      ]
     },
     "execution_count": 20,
     "metadata": {},
     "output_type": "execute_result"
    }
   ],
   "source": [
    "array_iden = np.eye(5)\n",
    "array_iden"
   ]
  },
  {
   "cell_type": "code",
   "execution_count": null,
   "id": "3cb0fd13-77a2-4f2e-b265-9625a0916b69",
   "metadata": {},
   "outputs": [],
   "source": []
  }
 ],
 "metadata": {
  "kernelspec": {
   "display_name": "Python 3 (ipykernel)",
   "language": "python",
   "name": "python3"
  },
  "language_info": {
   "codemirror_mode": {
    "name": "ipython",
    "version": 3
   },
   "file_extension": ".py",
   "mimetype": "text/x-python",
   "name": "python",
   "nbconvert_exporter": "python",
   "pygments_lexer": "ipython3",
   "version": "3.10.8"
  }
 },
 "nbformat": 4,
 "nbformat_minor": 5
}
