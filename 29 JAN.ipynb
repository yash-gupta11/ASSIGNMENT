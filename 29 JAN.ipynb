{
 "cells": [
  {
   "cell_type": "markdown",
   "id": "f676e26a-f613-4cae-84c4-21e0ad9f76d3",
   "metadata": {},
   "source": [
    "QUESTION 1 :\n",
    "ANSWER : Guido van Rossum"
   ]
  },
  {
   "cell_type": "code",
   "execution_count": null,
   "id": "a2b9be04-7a96-4fb4-a0fb-c83efa98552a",
   "metadata": {},
   "outputs": [],
   "source": []
  },
  {
   "cell_type": "markdown",
   "id": "d661ea92-4e70-4bc5-ad9e-9eb101e28a35",
   "metadata": {},
   "source": [
    "QUESTION 2"
   ]
  },
  {
   "cell_type": "code",
   "execution_count": 1,
   "id": "5cbb8749-8e5c-48c0-92d8-88ecd71ec001",
   "metadata": {},
   "outputs": [],
   "source": [
    "#python is \"interpreted\" language which support \"object oriented programming\" and \"structured programming\""
   ]
  },
  {
   "cell_type": "markdown",
   "id": "bca48e69-d250-45bd-b4ed-c56ce4e09421",
   "metadata": {},
   "source": [
    "QUESTION 3"
   ]
  },
  {
   "cell_type": "code",
   "execution_count": null,
   "id": "bc63cb39-e816-47cb-87cb-8d3b58dca201",
   "metadata": {},
   "outputs": [],
   "source": [
    "#YES, Python is case sensitive language when dealing with identifier"
   ]
  },
  {
   "cell_type": "markdown",
   "id": "4b16e97a-06fe-4a49-b308-0fc5ac69c89d",
   "metadata": {},
   "source": [
    "QUESTION 4"
   ]
  },
  {
   "cell_type": "code",
   "execution_count": null,
   "id": "efd79398-f2b3-4634-a785-720795c473fe",
   "metadata": {},
   "outputs": [],
   "source": [
    "# filename.py"
   ]
  },
  {
   "cell_type": "markdown",
   "id": "1aa03882-1b5c-4ac8-b6b0-1f1cc713cf5c",
   "metadata": {},
   "source": [
    "QUESTION 5"
   ]
  },
  {
   "cell_type": "code",
   "execution_count": null,
   "id": "7a21b75c-654a-407d-a6b0-1a0b1bddd5df",
   "metadata": {},
   "outputs": [],
   "source": [
    "# interpreted"
   ]
  },
  {
   "cell_type": "markdown",
   "id": "6a837f26-a462-4c69-bc14-1f9db6cfc597",
   "metadata": {},
   "source": [
    "QUESTION 6"
   ]
  },
  {
   "cell_type": "code",
   "execution_count": null,
   "id": "da630732-cf25-4ef1-9ac7-dc7bc78b45d9",
   "metadata": {},
   "outputs": [],
   "source": [
    "if True:\n",
    "    pass\n",
    "else:\n",
    "    pass\n",
    "\n",
    "\n",
    "while True:\n",
    "    pass\n",
    "\n"
   ]
  },
  {
   "cell_type": "markdown",
   "id": "69f09c94-b219-4227-b096-d5575a81171e",
   "metadata": {},
   "source": [
    "QUESTION 7"
   ]
  },
  {
   "cell_type": "code",
   "execution_count": null,
   "id": "e84154b9-8a3c-4975-bfc5-a38c6478974b",
   "metadata": {},
   "outputs": [],
   "source": [
    "# comment for single line \"#\""
   ]
  },
  {
   "cell_type": "markdown",
   "id": "fb552c63-18f6-4603-9df9-a6581070b0a9",
   "metadata": {},
   "source": [
    "QUESTION 8"
   ]
  },
  {
   "cell_type": "code",
   "execution_count": 7,
   "id": "aed4102d-558c-4b82-bbf1-449660c0f003",
   "metadata": {},
   "outputs": [
    {
     "data": {
      "text/plain": [
       "'3.10.8 | packaged by conda-forge | (main, Nov 22 2022, 08:26:04) [GCC 10.4.0]'"
      ]
     },
     "execution_count": 7,
     "metadata": {},
     "output_type": "execute_result"
    }
   ],
   "source": [
    "import sys\n",
    "sys.version"
   ]
  },
  {
   "cell_type": "markdown",
   "id": "73c34071-69c1-441d-994e-e281ada41350",
   "metadata": {},
   "source": [
    "QUESTION 9"
   ]
  },
  {
   "cell_type": "code",
   "execution_count": 6,
   "id": "fc2f17fb-4d36-428d-a7b5-0ae61d03d607",
   "metadata": {},
   "outputs": [],
   "source": [
    "# \"lambda\"\n",
    "sumfunction = lambda a,b : a+b"
   ]
  },
  {
   "cell_type": "markdown",
   "id": "78ec5db8-041a-4884-9891-e3b530468ced",
   "metadata": {},
   "source": [
    "QUESTION 10"
   ]
  },
  {
   "cell_type": "code",
   "execution_count": 9,
   "id": "0367cd9e-229d-404c-ade8-8c8d6d75e210",
   "metadata": {},
   "outputs": [],
   "source": [
    "# pip stands for \"preferred installer program\"\n"
   ]
  },
  {
   "cell_type": "code",
   "execution_count": null,
   "id": "4842461e-df10-462d-9cd4-bef0105c8e57",
   "metadata": {},
   "outputs": [],
   "source": [
    "QUESTION 11"
   ]
  },
  {
   "cell_type": "code",
   "execution_count": 10,
   "id": "ec9e7a50-2b15-4411-aef2-a96393279e72",
   "metadata": {},
   "outputs": [],
   "source": [
    "# len(),sorted(),upper()"
   ]
  },
  {
   "cell_type": "markdown",
   "id": "1f0b5b18-abb3-4430-9326-cd06fe673f6f",
   "metadata": {},
   "source": [
    "QUESTION 12"
   ]
  },
  {
   "cell_type": "code",
   "execution_count": null,
   "id": "615866d4-4c76-456c-a3e2-db6ae3c7e92a",
   "metadata": {},
   "outputs": [],
   "source": [
    "# An identifier can have maximum 79 character."
   ]
  },
  {
   "cell_type": "code",
   "execution_count": null,
   "id": "7a6e10c8-42b8-4170-8d38-97a65d958588",
   "metadata": {},
   "outputs": [],
   "source": [
    "QUESTION 13"
   ]
  },
  {
   "cell_type": "code",
   "execution_count": 12,
   "id": "93ff5414-e5cf-4152-8b92-f2980fd23507",
   "metadata": {},
   "outputs": [],
   "source": [
    "#python has simple syntex\n",
    "#python is object oriented programming\n",
    "#python is interpreted language"
   ]
  },
  {
   "cell_type": "code",
   "execution_count": null,
   "id": "02bbe227-9984-4583-8a7f-fc6dc9a49252",
   "metadata": {},
   "outputs": [],
   "source": [
    "QUESTION 14"
   ]
  },
  {
   "cell_type": "code",
   "execution_count": null,
   "id": "dd9bd5cc-a4ad-41b3-825e-b7ea783ae761",
   "metadata": {},
   "outputs": [],
   "source": [
    "#Memory management in Python involves a private heap containing all Python objects and data structures.\n",
    "#The management of this private heap is ensured internally by the Python memory manager."
   ]
  },
  {
   "cell_type": "code",
   "execution_count": null,
   "id": "fc67a4ee-8f8c-4404-ae32-2a8201f39c60",
   "metadata": {},
   "outputs": [],
   "source": [
    "QUESTION 15"
   ]
  },
  {
   "cell_type": "code",
   "execution_count": null,
   "id": "8f9a9414-3c72-4a3c-a601-247a42b4a2d7",
   "metadata": {},
   "outputs": [],
   "source": [
    "#first we download python from python original website and then we set the path in environment variable.\n",
    "#After that we can access python form any ide or command prompt"
   ]
  },
  {
   "cell_type": "code",
   "execution_count": null,
   "id": "51a844ea-fbdf-4b33-9a74-bf923beda22b",
   "metadata": {},
   "outputs": [],
   "source": [
    "QUESTION 16"
   ]
  },
  {
   "cell_type": "code",
   "execution_count": null,
   "id": "cd51f98f-ebad-4183-ae20-26d0ad0b653a",
   "metadata": {},
   "outputs": [],
   "source": [
    "# yes ,identation is required"
   ]
  }
 ],
 "metadata": {
  "kernelspec": {
   "display_name": "Python 3 (ipykernel)",
   "language": "python",
   "name": "python3"
  },
  "language_info": {
   "codemirror_mode": {
    "name": "ipython",
    "version": 3
   },
   "file_extension": ".py",
   "mimetype": "text/x-python",
   "name": "python",
   "nbconvert_exporter": "python",
   "pygments_lexer": "ipython3",
   "version": "3.10.8"
  }
 },
 "nbformat": 4,
 "nbformat_minor": 5
}
